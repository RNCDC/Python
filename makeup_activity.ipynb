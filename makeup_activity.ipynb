{
 "cells": [
  {
   "cell_type": "code",
   "execution_count": 10,
   "id": "d73ba50b",
   "metadata": {},
   "outputs": [
    {
     "name": "stdout",
     "output_type": "stream",
     "text": [
      "Hours Worked: 10\n",
      "Rate Per Hour: 100\n",
      "Salary Grade: 9\n",
      "\n",
      "\tComputed Salary\n",
      "Number of Hours Worked:  10\n",
      "Rate Per Hour:  100\n",
      "Salary Grade:  9\n",
      "Gross Pay:  900.0\n"
     ]
    }
   ],
   "source": [
    "%run class.ipynb\n",
    "\n",
    "try:\n",
    "    hours = int(input(\"Hours Worked: \"))\n",
    "    rate = int(input(\"Rate Per Hour: \"))\n",
    "    salg = int(input(\"Salary Grade: \"))\n",
    "    test = Methods()\n",
    "    test.setSg(salg)\n",
    "    test.setNumhours(hours)\n",
    "    test.setRate(rate)\n",
    "    print('\\n\\tComputed Salary')\n",
    "    print('Number of Hours Worked: ',hours)\n",
    "    print('Rate Per Hour: ',rate)\n",
    "    print('Salary Grade: ',salg)\n",
    "    print('Gross Pay: ',test.getGp())\n",
    "except Exception as z:\n",
    "    print(\"Error: \",z)"
   ]
  },
  {
   "cell_type": "code",
   "execution_count": null,
   "id": "683e37c1",
   "metadata": {},
   "outputs": [],
   "source": []
  }
 ],
 "metadata": {
  "kernelspec": {
   "display_name": "Python 3 (ipykernel)",
   "language": "python",
   "name": "python3"
  },
  "language_info": {
   "codemirror_mode": {
    "name": "ipython",
    "version": 3
   },
   "file_extension": ".py",
   "mimetype": "text/x-python",
   "name": "python",
   "nbconvert_exporter": "python",
   "pygments_lexer": "ipython3",
   "version": "3.11.5"
  }
 },
 "nbformat": 4,
 "nbformat_minor": 5
}
