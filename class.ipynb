{
 "cells": [
  {
   "cell_type": "code",
   "execution_count": 1,
   "id": "a2bcaab2",
   "metadata": {},
   "outputs": [],
   "source": [
    "class Methods: \n",
    "    def setNumhours(self, hours):\n",
    "        self.hours = hours\n",
    "    def setRate(self, rate):\n",
    "        self.rate = rate\n",
    "    def setSg(self, salg):\n",
    "        self.salg = salg\n",
    "    def getGp(self):\n",
    "        np = self.hours * self.rate\n",
    "        if self.salg <= 9 :\n",
    "            sg = .1\n",
    "        elif self.salg <= 19:\n",
    "            sg = .25\n",
    "        else:\n",
    "            sg = .32\n",
    "        tax = np * sg\n",
    "        grossp = np - tax\n",
    "        return grossp"
   ]
  }
 ],
 "metadata": {
  "kernelspec": {
   "display_name": "Python 3 (ipykernel)",
   "language": "python",
   "name": "python3"
  },
  "language_info": {
   "codemirror_mode": {
    "name": "ipython",
    "version": 3
   },
   "file_extension": ".py",
   "mimetype": "text/x-python",
   "name": "python",
   "nbconvert_exporter": "python",
   "pygments_lexer": "ipython3",
   "version": "3.11.5"
  }
 },
 "nbformat": 4,
 "nbformat_minor": 5
}
