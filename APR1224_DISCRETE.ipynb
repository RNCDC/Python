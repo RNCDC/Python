{
 "cells": [
  {
   "cell_type": "code",
   "execution_count": 1,
   "id": "e3ff7819",
   "metadata": {},
   "outputs": [
    {
     "name": "stdout",
     "output_type": "stream",
     "text": [
      "[16, 4, 6, 25, 24]\n",
      "[]\n",
      "[]\n"
     ]
    }
   ],
   "source": [
    "lst_list1 = [16,4,6,25,24]\n",
    "lst_list2 = []\n",
    "lst_list3 = list()\n",
    "print(lst_list1)\n",
    "print(lst_list2)\n",
    "print(lst_list3)"
   ]
  },
  {
   "cell_type": "code",
   "execution_count": 2,
   "id": "92b19bc9",
   "metadata": {},
   "outputs": [
    {
     "name": "stdout",
     "output_type": "stream",
     "text": [
      "16\n"
     ]
    }
   ],
   "source": [
    "print(lst_list1[0])"
   ]
  },
  {
   "cell_type": "code",
   "execution_count": 3,
   "id": "2c388bc9",
   "metadata": {},
   "outputs": [
    {
     "name": "stdout",
     "output_type": "stream",
     "text": [
      "lst_list[ 0 ] =  16\n",
      "lst_list[ 1 ] =  4\n",
      "lst_list[ 2 ] =  6\n",
      "lst_list[ 3 ] =  25\n",
      "lst_list[ 4 ] =  24\n"
     ]
    }
   ],
   "source": [
    "for x in range(0,5):\n",
    "    print(\"lst_list[\",x,\"] = \",lst_list1[x])"
   ]
  },
  {
   "cell_type": "code",
   "execution_count": 4,
   "id": "98e2831c",
   "metadata": {},
   "outputs": [
    {
     "name": "stdout",
     "output_type": "stream",
     "text": [
      "[16, 4, 6, 25, 24, 53]\n",
      "[99]\n"
     ]
    }
   ],
   "source": [
    "lst_list1.append(53) #will add the value at the end of list\n",
    "lst_list2.append(99)\n",
    "print(lst_list1)\n",
    "print(lst_list2)"
   ]
  },
  {
   "cell_type": "code",
   "execution_count": 5,
   "id": "53e9772a",
   "metadata": {},
   "outputs": [],
   "source": [
    "lst_list1.sort() #ascending default\n",
    "lst_list1.sort(reverse=True) #descending\n"
   ]
  },
  {
   "cell_type": "code",
   "execution_count": 6,
   "id": "98c2f1e7",
   "metadata": {},
   "outputs": [
    {
     "name": "stdout",
     "output_type": "stream",
     "text": [
      "[53, 25, 42, 16, 6, 4]\n"
     ]
    }
   ],
   "source": [
    "lst_list1[2]=42\n",
    "print(lst_list1)"
   ]
  },
  {
   "cell_type": "code",
   "execution_count": 7,
   "id": "3285f679",
   "metadata": {},
   "outputs": [
    {
     "name": "stdout",
     "output_type": "stream",
     "text": [
      "[53, 25, 42, 20, 16, 6, 4]\n",
      "[99, 53, 25, 42, 20, 16, 6, 4]\n"
     ]
    }
   ],
   "source": [
    "lst_list1.insert(3,20) #3 is the location where to insert, 20 is what you will add\n",
    "lst_list2.extend(lst_list1) #extend will connect both list\n",
    "print(lst_list1)\n",
    "print(lst_list2)"
   ]
  },
  {
   "cell_type": "code",
   "execution_count": 8,
   "id": "06d97fba",
   "metadata": {},
   "outputs": [
    {
     "name": "stdout",
     "output_type": "stream",
     "text": [
      "[53, 25, 42, 20, 16, 6]\n",
      "[25, 42, 20, 16, 6]\n"
     ]
    }
   ],
   "source": [
    "lst_list1.pop()\n",
    "print(lst_list1)\n",
    "lst_list1.pop(0) #index is the location\n",
    "print(lst_list1)"
   ]
  },
  {
   "cell_type": "code",
   "execution_count": 9,
   "id": "71941748",
   "metadata": {},
   "outputs": [
    {
     "name": "stdout",
     "output_type": "stream",
     "text": [
      "[]\n"
     ]
    }
   ],
   "source": [
    "lst_list2.clear() #delete values\n",
    "print(lst_list2)"
   ]
  },
  {
   "cell_type": "code",
   "execution_count": 10,
   "id": "e4571b52",
   "metadata": {},
   "outputs": [
    {
     "name": "stdout",
     "output_type": "stream",
     "text": [
      "[42, 20, 16, 6]\n"
     ]
    },
    {
     "ename": "NameError",
     "evalue": "name 'lst_list1' is not defined",
     "output_type": "error",
     "traceback": [
      "\u001b[1;31m---------------------------------------------------------------------------\u001b[0m",
      "\u001b[1;31mNameError\u001b[0m                                 Traceback (most recent call last)",
      "Cell \u001b[1;32mIn[10], line 4\u001b[0m\n\u001b[0;32m      2\u001b[0m \u001b[38;5;28mprint\u001b[39m(lst_list1)\n\u001b[0;32m      3\u001b[0m \u001b[38;5;28;01mdel\u001b[39;00m lst_list1\n\u001b[1;32m----> 4\u001b[0m \u001b[38;5;28mprint\u001b[39m(lst_list1)\n",
      "\u001b[1;31mNameError\u001b[0m: name 'lst_list1' is not defined"
     ]
    }
   ],
   "source": [
    "del lst_list1[0] #only delete the value at index location \n",
    "print(lst_list1)\n",
    "del lst_list1 #delete whole list\n",
    "print(lst_list1)"
   ]
  },
  {
   "cell_type": "code",
   "execution_count": 11,
   "id": "c37f9cbd",
   "metadata": {},
   "outputs": [
    {
     "name": "stdout",
     "output_type": "stream",
     "text": [
      "Enter value to your list 12\n"
     ]
    }
   ],
   "source": [
    "list1=list(input('Enter value to your list '))"
   ]
  },
  {
   "cell_type": "code",
   "execution_count": 12,
   "id": "b5d57ce5",
   "metadata": {},
   "outputs": [
    {
     "name": "stdout",
     "output_type": "stream",
     "text": [
      "['1', '2']\n"
     ]
    }
   ],
   "source": [
    "print(list1)"
   ]
  },
  {
   "cell_type": "code",
   "execution_count": 13,
   "id": "51d674ba",
   "metadata": {},
   "outputs": [
    {
     "name": "stdout",
     "output_type": "stream",
     "text": [
      "input number: 1\n",
      "input number: 2\n",
      "input number: 3\n",
      "input number: 4\n",
      "input number: 5\n",
      "[1, 2, 3, 4, 5]\n"
     ]
    }
   ],
   "source": [
    "list_number = []\n",
    "for i in range(0,5):\n",
    "    num = int(input(\"input number: \"))\n",
    "    list_number.append(num)\n",
    "print(list_number)"
   ]
  },
  {
   "cell_type": "code",
   "execution_count": 14,
   "id": "dab18f25",
   "metadata": {},
   "outputs": [
    {
     "name": "stdout",
     "output_type": "stream",
     "text": [
      "(1.5, 2, 'a', 'abc')\n",
      "()\n",
      "()\n"
     ]
    }
   ],
   "source": [
    "#TUPLE\n",
    "#can't add to tuple list\n",
    "#use ()\n",
    "tuple1=(1.5,2,'a','abc')\n",
    "tuple2=()\n",
    "tuple3=tuple()\n",
    "print(tuple1)\n",
    "print(tuple2)\n",
    "print(tuple3)"
   ]
  },
  {
   "cell_type": "code",
   "execution_count": 15,
   "id": "5f044034",
   "metadata": {},
   "outputs": [
    {
     "name": "stdout",
     "output_type": "stream",
     "text": [
      "1.5\n"
     ]
    }
   ],
   "source": [
    "print(tuple1[0])"
   ]
  },
  {
   "cell_type": "code",
   "execution_count": 20,
   "id": "fe2d9ee1",
   "metadata": {},
   "outputs": [
    {
     "name": "stdout",
     "output_type": "stream",
     "text": [
      "enter value to your tuple: 5\n"
     ]
    }
   ],
   "source": [
    "tuple_try=tuple(input(\"enter value to your tuple: \"))"
   ]
  },
  {
   "cell_type": "code",
   "execution_count": 21,
   "id": "58371d39",
   "metadata": {},
   "outputs": [
    {
     "name": "stdout",
     "output_type": "stream",
     "text": [
      "('5',)\n"
     ]
    }
   ],
   "source": [
    "print(tuple_try)"
   ]
  },
  {
   "cell_type": "code",
   "execution_count": 27,
   "id": "74fd1003",
   "metadata": {},
   "outputs": [
    {
     "name": "stdout",
     "output_type": "stream",
     "text": [
      "{16, 1.5, 2, 24, 345, 11}\n"
     ]
    }
   ],
   "source": [
    "#SET \n",
    "#use {}\n",
    "#unorder\n",
    "set1={1.5,2,345,24,11,16}\n",
    "set2={'hi'}\n",
    "print(set1)"
   ]
  },
  {
   "cell_type": "code",
   "execution_count": 28,
   "id": "58926b11",
   "metadata": {},
   "outputs": [
    {
     "name": "stdout",
     "output_type": "stream",
     "text": [
      "{16, 1.5, 2, 'dc', 24, 345, 11}\n",
      "{'hi', 'marvel'}\n"
     ]
    }
   ],
   "source": [
    "set1.add('dc')\n",
    "set2.add('marvel')\n",
    "print(set1)\n",
    "print(set2)"
   ]
  },
  {
   "cell_type": "code",
   "execution_count": 29,
   "id": "51638a16",
   "metadata": {},
   "outputs": [
    {
     "name": "stdout",
     "output_type": "stream",
     "text": [
      "{16, 1.5, 2, 24, 345, 11}\n",
      "{'marvel'}\n"
     ]
    }
   ],
   "source": [
    "#remove is particular\n",
    "set1.remove('dc')\n",
    "set2.remove('hi')\n",
    "print(set1)\n",
    "print(set2)"
   ]
  },
  {
   "cell_type": "code",
   "execution_count": 30,
   "id": "1b9e30d2",
   "metadata": {},
   "outputs": [
    {
     "name": "stdout",
     "output_type": "stream",
     "text": [
      "{1.5, 2, 24, 345, 11}\n"
     ]
    }
   ],
   "source": [
    "set1.pop() #pop only delete the 1st value\n",
    "print(set1)"
   ]
  },
  {
   "cell_type": "code",
   "execution_count": 31,
   "id": "ffaf0e96",
   "metadata": {},
   "outputs": [
    {
     "name": "stdout",
     "output_type": "stream",
     "text": [
      "set()\n"
     ]
    }
   ],
   "source": [
    "set1.clear() #empty the set\n",
    "print(set1)"
   ]
  },
  {
   "cell_type": "code",
   "execution_count": 32,
   "id": "189acbd6",
   "metadata": {},
   "outputs": [
    {
     "name": "stdout",
     "output_type": "stream",
     "text": [
      "{4}\n"
     ]
    }
   ],
   "source": [
    "set1.add(4) #add value\n",
    "print(set1)"
   ]
  },
  {
   "cell_type": "code",
   "execution_count": 33,
   "id": "2c26f64a",
   "metadata": {},
   "outputs": [
    {
     "ename": "NameError",
     "evalue": "name 'set1' is not defined",
     "output_type": "error",
     "traceback": [
      "\u001b[1;31m---------------------------------------------------------------------------\u001b[0m",
      "\u001b[1;31mNameError\u001b[0m                                 Traceback (most recent call last)",
      "Cell \u001b[1;32mIn[33], line 2\u001b[0m\n\u001b[0;32m      1\u001b[0m \u001b[38;5;28;01mdel\u001b[39;00m set1 \u001b[38;5;66;03m#delete whole set\u001b[39;00m\n\u001b[1;32m----> 2\u001b[0m \u001b[38;5;28mprint\u001b[39m(set1)\n",
      "\u001b[1;31mNameError\u001b[0m: name 'set1' is not defined"
     ]
    }
   ],
   "source": [
    "del set1 #delete whole set\n",
    "print(set1)"
   ]
  },
  {
   "cell_type": "code",
   "execution_count": 37,
   "id": "703589b4",
   "metadata": {},
   "outputs": [
    {
     "name": "stdout",
     "output_type": "stream",
     "text": [
      "{'name': 'naruto', 'age': 10, 'address': 'konuha'}\n"
     ]
    },
    {
     "data": {
      "text/plain": [
       "dict_values(['naruto', 10, 'konuha'])"
      ]
     },
     "execution_count": 37,
     "metadata": {},
     "output_type": "execute_result"
    }
   ],
   "source": [
    "#DICTIONARY\n",
    "\n",
    "d1={'name':'boruto','age':10,'address':'konuha','name':'naruto'}\n",
    "print(d1)\n",
    "d1.items()\n",
    "d1.values()"
   ]
  },
  {
   "cell_type": "code",
   "execution_count": 38,
   "id": "3f1ee303",
   "metadata": {},
   "outputs": [
    {
     "name": "stdout",
     "output_type": "stream",
     "text": [
      "{'name': 'naruto', 'age': 10, 'address': 'konuha'}\n"
     ]
    },
    {
     "data": {
      "text/plain": [
       "dict_values(['naruto', 10, 'konuha'])"
      ]
     },
     "execution_count": 38,
     "metadata": {},
     "output_type": "execute_result"
    }
   ],
   "source": [
    "dictionary_name1={}\n",
    "dictionary_name2=dict()\n",
    "d1={'name':'boruto','age':10,'address':'konuha','name':'naruto'}\n",
    "print(d1)\n",
    "d1.items()\n",
    "d1.values()"
   ]
  },
  {
   "cell_type": "code",
   "execution_count": 43,
   "id": "15791acc",
   "metadata": {},
   "outputs": [
    {
     "name": "stdout",
     "output_type": "stream",
     "text": [
      "Enter index key: ln\n",
      "Enter value for index: uzumaki\n",
      "Enter index key: fn\n",
      "Enter value for index: naruto\n",
      "Enter index key: age\n",
      "Enter value for index: 22\n"
     ]
    }
   ],
   "source": [
    "d2={}\n",
    "x=range(0,3)\n",
    "for y in x:\n",
    "    a=input(\"Enter index key: \")\n",
    "    b=input(\"Enter value for index: \")\n",
    "    d2.update({a:b})"
   ]
  },
  {
   "cell_type": "code",
   "execution_count": 44,
   "id": "376c3e6b",
   "metadata": {},
   "outputs": [
    {
     "name": "stdout",
     "output_type": "stream",
     "text": [
      "{'ln': 'uzumaki', 'fn': 'naruto', 'age': '22'}\n"
     ]
    }
   ],
   "source": [
    "print(d2)"
   ]
  },
  {
   "cell_type": "code",
   "execution_count": 45,
   "id": "42c5dda5",
   "metadata": {},
   "outputs": [
    {
     "name": "stdout",
     "output_type": "stream",
     "text": [
      "{'last name': 'uzumaki', 'first name': 'naruto'}\n"
     ]
    }
   ],
   "source": [
    "dt1=['last name','first name']\n",
    "dt2=['uzumaki','naruto']\n",
    "dict2=dict(zip(dt1,dt2))\n",
    "print(dict2)"
   ]
  },
  {
   "cell_type": "code",
   "execution_count": null,
   "id": "0f3f7068",
   "metadata": {},
   "outputs": [],
   "source": []
  }
 ],
 "metadata": {
  "kernelspec": {
   "display_name": "Python 3 (ipykernel)",
   "language": "python",
   "name": "python3"
  },
  "language_info": {
   "codemirror_mode": {
    "name": "ipython",
    "version": 3
   },
   "file_extension": ".py",
   "mimetype": "text/x-python",
   "name": "python",
   "nbconvert_exporter": "python",
   "pygments_lexer": "ipython3",
   "version": "3.11.5"
  }
 },
 "nbformat": 4,
 "nbformat_minor": 5
}
