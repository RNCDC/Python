{
 "cells": [
  {
   "cell_type": "code",
   "execution_count": 1,
   "id": "31d54672",
   "metadata": {},
   "outputs": [
    {
     "name": "stdout",
     "output_type": "stream",
     "text": [
      "Enter a number for x: 5\n",
      "The number is ODD\n"
     ]
    }
   ],
   "source": [
    "%run oopclass.ipynb\n",
    "try: #1\n",
    "    x=int(input(\"Enter a number for x: \"))\n",
    "    test=Odd_even()\n",
    "    test.setNum(x)\n",
    "    print(test.getResult())\n",
    "except Exception as z:\n",
    "    print(\"Error: \",z)"
   ]
  },
  {
   "cell_type": "code",
   "execution_count": 2,
   "id": "9214a124",
   "metadata": {},
   "outputs": [
    {
     "name": "stdout",
     "output_type": "stream",
     "text": [
      "Enter score: 25\n",
      "Enter number of items: 100\n",
      "Your score:  25\n",
      "Number of items:  100\n",
      "Transmuted Grade is:  62.5\n"
     ]
    }
   ],
   "source": [
    "%run oopclass.ipynb\n",
    "try: #2 'INSTANCE'\n",
    "    score=int(input(\"Enter score: \"))\n",
    "    items=int(input(\"Enter number of items: \"))\n",
    "    test=Transg()\n",
    "    test.setScore(score)\n",
    "    test.setItems(items)\n",
    "    print('Your score: ',test.getScore())\n",
    "    print('Number of items: ',test.getItems())\n",
    "    print('Transmuted Grade is: ',test.getTg())\n",
    "except Exception as z:\n",
    "    print(\"Error: \",z)"
   ]
  },
  {
   "cell_type": "code",
   "execution_count": 1,
   "id": "cf4623ae",
   "metadata": {},
   "outputs": [
    {
     "name": "stdout",
     "output_type": "stream",
     "text": [
      "Enter score: 25\n",
      "Enter number of items: 100\n",
      "Your score:  25\n",
      "Number of items:  100\n",
      "Transmuted Grade is:  62.5\n"
     ]
    }
   ],
   "source": [
    "%run oopclass.ipynb\n",
    "try: #3 'CONSTRUCTOR'\n",
    "    score=int(input(\"Enter score: \"))\n",
    "    items=int(input(\"Enter number of items: \"))\n",
    "    test=Table(score,items)\n",
    "    #test.setScore(score)\n",
    "    #test.setItems(items)\n",
    "    print('Your score: ',test.getScore())\n",
    "    print('Number of items: ',test.getItems())\n",
    "    print('Transmuted Grade is: ',test.getTg())\n",
    "except Exception as z:\n",
    "    print(\"Error: \",z)"
   ]
  },
  {
   "cell_type": "code",
   "execution_count": null,
   "id": "f955d5ee",
   "metadata": {},
   "outputs": [],
   "source": []
  }
 ],
 "metadata": {
  "kernelspec": {
   "display_name": "Python 3 (ipykernel)",
   "language": "python",
   "name": "python3"
  },
  "language_info": {
   "codemirror_mode": {
    "name": "ipython",
    "version": 3
   },
   "file_extension": ".py",
   "mimetype": "text/x-python",
   "name": "python",
   "nbconvert_exporter": "python",
   "pygments_lexer": "ipython3",
   "version": "3.11.5"
  }
 },
 "nbformat": 4,
 "nbformat_minor": 5
}
