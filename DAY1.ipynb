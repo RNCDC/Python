{
 "cells": [
  {
   "cell_type": "code",
   "execution_count": 11,
   "id": "5e36c833",
   "metadata": {},
   "outputs": [
    {
     "name": "stdout",
     "output_type": "stream",
     "text": [
      "bsit 2-1\n",
      "no class on friday\n",
      "attend at your own risk\n",
      "<class 'int'>\n",
      "<class 'float'>\n",
      "<class 'str'>\n"
     ]
    },
    {
     "data": {
      "text/plain": [
       "'integrative programming'"
      ]
     },
     "execution_count": 11,
     "metadata": {},
     "output_type": "execute_result"
    }
   ],
   "source": [
    "x=5\n",
    "pi=3.14159\n",
    "word=\"integrative programming\"\n",
    "isTrue=x>10\n",
    "\n",
    "#when you need to print, can use \" \" / ' ' / \"\"\" \"\"\" any of the three\n",
    "print(\"bsit 2-1\")\n",
    "print('no class on friday')\n",
    "print(\"\"\"attend at your own risk\"\"\")\n",
    "\n",
    "#if there is a word 'type' before the variable the output will state what kind of data type\n",
    "print(type(x))\n",
    "print(type(pi))\n",
    "print(type(word))\n",
    "\n",
    "(word) #this will not be shown in the output, only saved in the memory"
   ]
  },
  {
   "cell_type": "code",
   "execution_count": 7,
   "id": "5a49c226",
   "metadata": {},
   "outputs": [
    {
     "data": {
      "text/plain": [
       "False"
      ]
     },
     "execution_count": 7,
     "metadata": {},
     "output_type": "execute_result"
    }
   ],
   "source": [
    "x=5\n",
    "y=2\n",
    "z=7\n",
    "not(x>y or y>z) #instead of symbols type the word 'and' 'not' 'or'"
   ]
  },
  {
   "cell_type": "code",
   "execution_count": 10,
   "id": "50541142",
   "metadata": {},
   "outputs": [
    {
     "name": "stdout",
     "output_type": "stream",
     "text": [
      "not part of the comment\n"
     ]
    }
   ],
   "source": [
    "x=5\n",
    "pi=3.14159\n",
    "word=\"integrative programming\"\n",
    "isTrue=x>10\n",
    "\n",
    "\"\"\" this symbol is an improvised comment for more than 1 line like /* */\n",
    "#if there is a word 'type' before the variable the output will state what kind of data type\n",
    "print(\"bsit 2-1\")\n",
    "print('no class on friday')\n",
    "print(\"attend at your own risk\")\n",
    "\"\"\"\n",
    "\n",
    "print(\"not part of the comment\")"
   ]
  },
  {
   "cell_type": "code",
   "execution_count": 12,
   "id": "3ced9c9a",
   "metadata": {},
   "outputs": [
    {
     "name": "stdout",
     "output_type": "stream",
     "text": [
      "bsit 2-2\n"
     ]
    }
   ],
   "source": [
    "#doing this will make the statements output in 1 line. PYTHON automatically add newline \\n after a statement\n",
    "print(\"bsit \",end=\"\")\n",
    "print(\"2-2\")"
   ]
  },
  {
   "cell_type": "code",
   "execution_count": 15,
   "id": "102554a3",
   "metadata": {},
   "outputs": [
    {
     "name": "stdout",
     "output_type": "stream",
     "text": [
      "type your name nicole\n",
      "how old are you? 21\n",
      "nicole\n",
      "I am nicole 5 years from now you will be  26\n"
     ]
    }
   ],
   "source": [
    "name=input(\"type your name \")\n",
    "\n",
    "#putting int before input makes input of the user as int\n",
    "#input is automatically a string\n",
    "#input is like scanf of c language\n",
    "age=int(input(\"how old are you? \"))  \n",
    "age+=5 #increment statement, there is no ++ or -- in python\n",
    "print(name)\n",
    "print(\" 5 years from now you will be \",age)"
   ]
  },
  {
   "cell_type": "code",
   "execution_count": 16,
   "id": "e3fc6c2d",
   "metadata": {},
   "outputs": [
    {
     "name": "stdout",
     "output_type": "stream",
     "text": [
      "statement is true\n",
      "have a nice day\n"
     ]
    }
   ],
   "source": [
    "y=20\n",
    "#indentation is important so the system will know it is inside a condition statement\n",
    "#curly bracket is not needed\n",
    "#never forget the : after the condition\n",
    "#elif is the else if for python\n",
    "if y>15:\n",
    "    print(\"statement is true\")\n",
    "else:\n",
    "    print(\"statement is false\")\n",
    "print(\"have a nice day\")"
   ]
  },
  {
   "cell_type": "code",
   "execution_count": 24,
   "id": "88aee049",
   "metadata": {},
   "outputs": [
    {
     "name": "stdout",
     "output_type": "stream",
     "text": [
      "type a number 21\n",
      "invalid input\n",
      "have a nice day\n"
     ]
    }
   ],
   "source": [
    "y=int(input(\"type a number \"))\n",
    "#indentation is important so the system will know it is inside a condition statement\n",
    "#curly bracket is not needed\n",
    "#never forget the : after the condition\n",
    "#elif is the else if for python\n",
    "if y>15 and y<=20:\n",
    "    print(\"statement is true\")\n",
    "elif y<=15:\n",
    "    print(\"statement is false\")\n",
    "else:\n",
    "    print(\"invalid input\")\n",
    "print(\"have a nice day\") #not part of the condition because there is no indentation"
   ]
  },
  {
   "cell_type": "code",
   "execution_count": 25,
   "id": "de158b0e",
   "metadata": {},
   "outputs": [
    {
     "name": "stdout",
     "output_type": "stream",
     "text": [
      "Type an integer 20\n",
      "Positive Integer\n"
     ]
    }
   ],
   "source": [
    "#problem no.1\n",
    "value=int(input(\"Type an integer \"))\n",
    "\n",
    "if  value<=-1:\n",
    "    print(\"Negative Integer\")\n",
    "else:\n",
    "    print(\"Positive Integer\")"
   ]
  },
  {
   "cell_type": "code",
   "execution_count": 24,
   "id": "17bf5ba3",
   "metadata": {},
   "outputs": [
    {
     "name": "stdout",
     "output_type": "stream",
     "text": [
      "Type an integer 6\n",
      "Even Integer\n"
     ]
    }
   ],
   "source": [
    "#problem no.2\n",
    "value=int(input(\"Type an integer \"))\n",
    "value=value%2\n",
    "if value==1: #x//2-x/2==1 x//2*2==x\n",
    "    print(\"Odd Integer\")\n",
    "else:\n",
    "    print(\"Even Integer\")"
   ]
  },
  {
   "cell_type": "code",
   "execution_count": 35,
   "id": "d2813ae2",
   "metadata": {},
   "outputs": [
    {
     "name": "stdout",
     "output_type": "stream",
     "text": [
      "What is your score? 50\n",
      "How many items? 60\n",
      "Your Transmuted Grade is  91.67\n",
      "The Equivalent is 1.50\n"
     ]
    }
   ],
   "source": [
    "#problem no.3\n",
    "score=int(input(\"What is your score? \"))\n",
    "items=int(input(\"How many items? \"))\n",
    "tg=score*50/items+50\n",
    "\n",
    "#print(\"Transmuted Grade=\",score,\"*50/\",items,\"+50\")\n",
    "#print(tg)\n",
    "#The format() method formats the specified value(s) and insert them inside the string's placeholder.\n",
    "\n",
    "rounded=format(tg,\".2f\") #to output a 2 decimal places \n",
    "print(\"Your Transmuted Grade is \", rounded)\n",
    "if tg <= 100 and tg >= 97: # tg>=97:\n",
    "    print(\"The Equivalent is 1.00\")\n",
    "elif tg <= 96 and tg >= 94:\n",
    "    print(\"The Equivalent is 1.25\")\n",
    "elif tg <= 93 and tg >= 91:\n",
    "    print(\"The Equivalent is 1.50\")\n",
    "elif tg <= 90 and tg >= 88:\n",
    "    print(\"The Equivalent is 1.75\")\n",
    "elif tg <= 87 and tg >= 85:\n",
    "    print(\"The Equivalent is 2.0\")\n",
    "elif tg <= 84 and tg >= 82:\n",
    "    print(\"The Equivalent is 2.25\")\n",
    "elif tg <= 81 and tg >= 79:\n",
    "    print(\"The Equivalent is 2.50\")\n",
    "elif tg <= 78 and tg >= 76:\n",
    "    print(\"The Equivalent is 2.75\")\n",
    "elif tg == 75:\n",
    "    print(\"The Equivalent is 3.0\")\n",
    "elif tg == 74:\n",
    "    print(\"The Equivalent is 3.25\")\n",
    "elif tg <= 73 and tg >= 72:\n",
    "    print(\"The Equivalent is 3.5\")\n",
    "elif tg <= 71 and tg >= 70:\n",
    "    print(\"The Equivalent is 3.75\")\n",
    "elif tg <= 69 and tg >= 65:\n",
    "    print(\"The Equivalent is 4.0\")\n",
    "elif tg <= 64 and tg >= 60:\n",
    "    print(\"The Equivalent is 4.25\")\n",
    "elif tg <= 59 and tg >= 58:\n",
    "    print(\"The Equivalent is 4.5\")\n",
    "elif tg <= 57 and tg >= 50:\n",
    "    print(\"The Equivalent is 5.0\")\n",
    "else:\n",
    "    print(\"It is Invalid\")"
   ]
  },
  {
   "cell_type": "code",
   "execution_count": 100,
   "id": "b4271359",
   "metadata": {},
   "outputs": [
    {
     "name": "stdout",
     "output_type": "stream",
     "text": [
      "Enter the amount: 1000\n",
      "The amount is  1000\n",
      "Breakdown\n",
      "1000 -  1\n",
      "500 -  0\n",
      "200 -  0\n",
      "100 -  0\n",
      "50 -  0\n",
      "20 -  0\n",
      "10 -  0\n",
      "5 -  0\n",
      "1 -  0\n"
     ]
    }
   ],
   "source": [
    "#activity 1 prob 3 \n",
    "x=0\n",
    "amount=int(input(\"Enter the amount: \"))\n",
    "print(\"The amount is \",amount)\n",
    "print(\"Breakdown\")  \n",
    "x=amount//1000\n",
    "print (\"1000 - \",x)\n",
    "x=amount%1000//500\n",
    "print (\"500 - \",x)\n",
    "x=amount%1000%500//200\n",
    "print (\"200 - \",x)\n",
    "x=amount%1000%500%200//100\n",
    "print (\"100 - \",x)\n",
    "x=amount%1000%500%200%100//50\n",
    "print (\"50 - \",x)\n",
    "x=amount%1000%500%200%100%50//20\n",
    "print (\"20 - \",x)\n",
    "x=amount%1000%500%200%100%50%20//10\n",
    "print (\"10 - \",x)\n",
    "x=amount%1000%500%200%100%50%20%10//5\n",
    "print (\"5 - \",x)\n",
    "x=amount%1000%500%200%100%50%20%10%5//1\n",
    "print (\"1 - \",x)"
   ]
  },
  {
   "cell_type": "code",
   "execution_count": 16,
   "id": "98762275",
   "metadata": {},
   "outputs": [
    {
     "name": "stdout",
     "output_type": "stream",
     "text": [
      "Enter amount: 1568\n",
      "1000 : 1\n",
      "500 : 1\n",
      "200 : 0\n",
      "100 : 0\n",
      "50 : 1\n",
      "20 : 0\n",
      "10 : 1\n",
      "5 : 1\n",
      "1 : 3\n"
     ]
    }
   ],
   "source": [
    "#activity 1 prob 3 (not mine)\n",
    "coin_input = int(input(\"Enter amount: \"))\n",
    "coins_arr = [1000, 500, 200, 100, 50, 20, 10 ,5, 1]\n",
    "\n",
    "for i in range(0, 9):\n",
    "    occur = coin_input // coins_arr[i]\n",
    "    print(coins_arr[i],\":\",occur)\n",
    "    coin_input = coin_input % coins_arr[i]\n",
    "    "
   ]
  },
  {
   "cell_type": "code",
   "execution_count": 1,
   "id": "c13ee3c9",
   "metadata": {},
   "outputs": [
    {
     "name": "stdout",
     "output_type": "stream",
     "text": [
      "2.0\n"
     ]
    }
   ],
   "source": [
    "\n",
    "x=10/5\n",
    "print(x)"
   ]
  },
  {
   "cell_type": "code",
   "execution_count": 11,
   "id": "44d89d9c",
   "metadata": {},
   "outputs": [
    {
     "name": "stdout",
     "output_type": "stream",
     "text": [
      "float number 5.556\n",
      "2 decimal float 5.56\n"
     ]
    }
   ],
   "source": [
    "#for 2 decimal places\n",
    "decimal=float(input(\"float number \"))\n",
    "\n",
    "print(\"2 decimal float %.2f\"%decimal) "
   ]
  },
  {
   "cell_type": "code",
   "execution_count": 13,
   "id": "224386d2",
   "metadata": {},
   "outputs": [
    {
     "name": "stdout",
     "output_type": "stream",
     "text": [
      "BMI Calculator\n",
      "Enter your height in meters: 1.51\n",
      "Enter your weight in KG: 53\n",
      "Your BMI is 23.24\n",
      "Remarks: Normal\n",
      "Must do: Keep it up\n"
     ]
    }
   ],
   "source": [
    "#activity 1 prob 1 (not mine)\n",
    "def bmi_calculator(height, weight):\n",
    "    bmi = weight / (height ** 2)\n",
    "    if bmi <= 18.5:\n",
    "        print(\"Your BMI is %.2f\" % bmi)\n",
    "        print(\"Remarks: Underweight\")\n",
    "        print(\"Must do: You need to gain weight\")\n",
    "    elif bmi <= 24.99:\n",
    "        print(\"Your BMI is %.2f\" % bmi)\n",
    "        print(\"Remarks: Normal\")\n",
    "        print(\"Must do: Keep it up\")\n",
    "    elif bmi <= 29.9:\n",
    "        print(\"Your BMI is %.2f\" % bmi)\n",
    "        print(\"Remarks: Overweight\")\n",
    "        print(\"Must do: You need to lose weight\")\n",
    "    elif bmi <= 34.99:\n",
    "        print(\"Your BMI is %.2f\" % bmi)\n",
    "        print(\"Remarks: Obese class 1\")\n",
    "        print(\"Must do: You need to lose weight\")\n",
    "    elif bmi <= 39.99:\n",
    "        print(\"Your BMI is %.2f\" % bmi)\n",
    "        print(\"Remarks: Obese class 2\")\n",
    "        print(\"Must do: You need to lose weight\")\n",
    "    else:\n",
    "        print(\"Your BMI is %.2f\" % bmi)\n",
    "        print(\"Remarks: Morbid Obesity\")\n",
    "        print(\"Must do: You need to lose weight\")\n",
    "\n",
    "def is_float(string):\n",
    "    try:\n",
    "        float(string)\n",
    "        return True\n",
    "    except ValueError:\n",
    "        return False\n",
    "        \n",
    "print(\"BMI Calculator\")\n",
    "while True:\n",
    "    height_input = input(\"Enter your height in meters: \")\n",
    "    if is_float(height_input):\n",
    "        height = float(height_input)\n",
    "        break\n",
    "    else:\n",
    "        print(\"Error: Please enter a valid number for height.\")\n",
    "\n",
    "while True:\n",
    "    weight_input = input(\"Enter your weight in KG: \")\n",
    "    if is_float(weight_input):\n",
    "        weight = float(weight_input)\n",
    "        break\n",
    "    else:\n",
    "        print(\"Error: Please enter a valid number for weight.\")\n",
    "\n",
    "bmi_calculator(height, weight)"
   ]
  },
  {
   "cell_type": "code",
   "execution_count": 19,
   "id": "09b06929",
   "metadata": {},
   "outputs": [
    {
     "name": "stdout",
     "output_type": "stream",
     "text": [
      "Enter distance in km: 5\n",
      "Enter passenger type (P/E/S/R): p\n",
      "Passenger type: PWD\n",
      "Total fare: 11.0 pesos\n"
     ]
    }
   ],
   "source": [
    "#activity 1 prob 2 (not mine)\n",
    "distance = float(input(\"Enter distance in km: \"))\n",
    "#.upper() is like toupper\n",
    "passenger_type_input = input(\"Enter passenger type (P/E/S/R): \").upper() \n",
    "\n",
    "passenger_types = {'P': 'PWD', 'E': 'Elder', 'S': 'Student', 'R': 'Regular'}\n",
    "\n",
    "passenger_type = passenger_types.get(passenger_type_input, 'Regular')\n",
    "\n",
    "base_fare = 10 if passenger_type in ['PWD', 'Student', 'Elder'] else 12\n",
    "base_fare += distance - 4\n",
    "\n",
    "print(\"Passenger type:\", passenger_type)\n",
    "print(\"Total fare:\", base_fare, \"pesos\")"
   ]
  },
  {
   "cell_type": "code",
   "execution_count": null,
   "id": "83902edd",
   "metadata": {},
   "outputs": [],
   "source": []
  }
 ],
 "metadata": {
  "kernelspec": {
   "display_name": "Python 3 (ipykernel)",
   "language": "python",
   "name": "python3"
  },
  "language_info": {
   "codemirror_mode": {
    "name": "ipython",
    "version": 3
   },
   "file_extension": ".py",
   "mimetype": "text/x-python",
   "name": "python",
   "nbconvert_exporter": "python",
   "pygments_lexer": "ipython3",
   "version": "3.11.5"
  }
 },
 "nbformat": 4,
 "nbformat_minor": 5
}
