{
 "cells": [
  {
   "cell_type": "code",
   "execution_count": null,
   "id": "933457b1",
   "metadata": {},
   "outputs": [],
   "source": [
    "import csv\n",
    "\n",
    "try:\n",
    "    fp=open(\"student.csv\",\"w\")\n",
    "\tfprint=csv.writer(fp)\n",
    "\tlast=input('last name')\n",
    "\tfirst=input('first name')\n",
    "\tcourse=input('course')[0]\n",
    "\tdummy_list=[last,first,course]\n",
    "\tfprint.writerow(dummy_list)\n",
    "\tfp.close()\n",
    "except Exception as z:\n",
    "\tprint(\"Error: \",z)"
   ]
  },
  {
   "cell_type": "code",
   "execution_count": null,
   "id": "603a9450",
   "metadata": {},
   "outputs": [],
   "source": [
    "#continues APPEND\n",
    "import csv\n",
    "from os import path\n",
    "try:\n",
    "    if path.exists(\"student.csv\"):\n",
    "        fp=open(\"student.csv\",\"a\",newline='')\n",
    "        fprint=csv.writer(fp)\n",
    "    else:\n",
    "        p=open(\"student.csv\",\"w\",newline='')\n",
    "        fprint=csv.writer(fp)\n",
    "        fprint.writerow(['Last name','first name','course'])\n",
    "    while True:\n",
    "        last=input('last name')\n",
    "        first=input('first name')\n",
    "        course=input('course')[0]\n",
    "        dummy_list=[last,first,course]\n",
    "        ans=input('continue')[0]\n",
    "        if ans == 'N' or ans == 'n':\n",
    "            break\n",
    "    fprint.writerow(dummy_list)\n",
    "    fp.close()\n",
    "except Exception as z:\n",
    "\tprint(\"Error: \",z)"
   ]
  },
  {
   "cell_type": "code",
   "execution_count": null,
   "id": "acacdd1c",
   "metadata": {},
   "outputs": [],
   "source": [
    "#continues APPEND with for loop\n",
    "import csv\n",
    "from os import path\n",
    "\n",
    "try:\n",
    "    \n",
    "    if path.exists(\"student.csv\"):\n",
    "        fp=open(\"student.csv\",\"a\",newline='')\n",
    "        fprint=csv.writer(fp)\n",
    "        \n",
    "    else:\n",
    "        p=open(\"student.csv\",\"w\",newline='')\n",
    "        fprint=csv.writer(fp)\n",
    "        fprint.writerow(['Last name','first name','course'])\n",
    "        record=[]\n",
    "        \n",
    "    while True:\n",
    "        last=input('last name ')\n",
    "        first=input('first name ')\n",
    "        course=input('course ')[0]\n",
    "        dummy_list=[last,first,course]\n",
    "        ans=input('continue ')[0]\n",
    "        if ans == 'N' or ans == 'n':\n",
    "            break\n",
    "            \n",
    "    for i in record:\n",
    "        fprint.writerow(i)\n",
    "        \n",
    "    fp.close()\n",
    "except Exception as z:\n",
    "\tprint(\"Error: \",z)"
   ]
  },
  {
   "cell_type": "code",
   "execution_count": 1,
   "id": "5abd3e8b",
   "metadata": {},
   "outputs": [
    {
     "name": "stdout",
     "output_type": "stream",
     "text": [
      "Last name: dela\n",
      "First name: nicole\n",
      "Course: a\n",
      "Continue? (Y/N): y\n",
      "Last name: dela\n",
      "First name: yanna\n",
      "Course: b\n",
      "Continue? (Y/N): n\n"
     ]
    }
   ],
   "source": [
    "#shortcut version ng nasa taas\n",
    "import csv\n",
    "from os import path\n",
    "\n",
    "try:\n",
    "    if path.exists(\"student.csv\"):\n",
    "        fp = open(\"student.csv\", \"a\", newline='')\n",
    "        fprint = csv.writer(fp)\n",
    "    else:\n",
    "        fp = open(\"student.csv\", \"w\", newline='')\n",
    "        fprint = csv.writer(fp)\n",
    "        fprint.writerow(['Last name', 'First name', 'Course'])\n",
    "        \n",
    "    while True:\n",
    "        last = input('Last name: ')\n",
    "        first = input('First name: ')\n",
    "        course = input('Course: ')[0] #for char input\n",
    "        dummy_list = [last, first, course]\n",
    "        fprint.writerow(dummy_list)\n",
    "        ans = input('Continue? (Y/N): ')[0]\n",
    "        if ans.lower() == 'n':\n",
    "            break\n",
    "    fp.close()\n",
    "except Exception as z:\n",
    "    print(\"Error: \", z)"
   ]
  },
  {
   "cell_type": "code",
   "execution_count": null,
   "id": "03143f83",
   "metadata": {},
   "outputs": [],
   "source": [
    "import csv\n",
    "from os import path\n",
    "try:\n",
    "    if path.exists(\"grades.csv\"):\n",
    "        fp=open(\"grades.csv\",\"a\",newline='')\n",
    "        fprint=csv.writer(fp)\n",
    "        \n",
    "    else:\n",
    "        p=open(\"grades.csv\",\"w\",newline='')\n",
    "        fprint=csv.writer(fp)\n",
    "        fprint.writerow(['Last name','first name','Midterm','Finals'])\n",
    "        \n",
    "    record=[]\n",
    "        \n",
    "    while True:\n",
    "        last=input('last name ')\n",
    "        first=input('first name ')\n",
    "        mid=float(input('Midterm '))\n",
    "        fin=float(input('Finals '))\n",
    "        dummy_list=[last,first,mid,fin]\n",
    "        ans=input('continue ')[0]\n",
    "        if ans == 'N' or ans == 'n':\n",
    "            break\n",
    "            \n",
    "    for i in record:\n",
    "        fprint.writerow(i)\n",
    "        \n",
    "    fp.close()\n",
    "except Exception as z:\n",
    "\tprint(\"Error: \",z)"
   ]
  },
  {
   "cell_type": "code",
   "execution_count": 1,
   "id": "4c0e8469",
   "metadata": {},
   "outputs": [
    {
     "name": "stdout",
     "output_type": "stream",
     "text": [
      "Error:  [Errno 2] No such file or directory: 'student.csv'\n"
     ]
    }
   ],
   "source": [
    "import csv\n",
    "try: \n",
    "    fp=open('student.csv','r')\n",
    "    fscanf=csv.reader(fp)\n",
    "    next(fscanf)#para di mabasa header\n",
    "    print('Lastname\\tfirstname\\tCourse')\n",
    "    for i in fscanf:\n",
    "        print(i[0],end='\\t\\t')\n",
    "        print(i[1],end='\\t\\t')\n",
    "        if i[2]=='a':\n",
    "            print('accounting')\n",
    "        elif i[2]=='b':\n",
    "            print('business')\n",
    "        else:\n",
    "            print('computer science')\n",
    "    fp.close\n",
    "except Exception as z:\n",
    "    print(\"Error: \",z)"
   ]
  },
  {
   "cell_type": "code",
   "execution_count": 2,
   "id": "314a60ae",
   "metadata": {},
   "outputs": [
    {
     "name": "stdout",
     "output_type": "stream",
     "text": [
      "Error: [Errno 2] No such file or directory: 'grades.txt'\n"
     ]
    }
   ],
   "source": [
    "import csv\n",
    "try:\n",
    "    fp=open('grades.txt','r')\n",
    "    fscanf=csv.reader(fp)\n",
    "    next(fscanf)\n",
    "    print('Lastname\\tFirstname\\tMidterm\\tFinals\\tAverage')\n",
    "    for i in fscanf:\n",
    "        print(i[0],end='\\t\\t')\n",
    "        print(i[1],end='\\t\\t')\n",
    "        print(i[2],end='\\t')\n",
    "        print(i[3],end='\\t')\n",
    "        print((float(i[2]) + float(i[3])) / 2)\n",
    "    fp.close()\n",
    "    \n",
    "except Exception as z:\n",
    "    print(\"Error:\", z)"
   ]
  },
  {
   "cell_type": "code",
   "execution_count": null,
   "id": "30679f5b",
   "metadata": {},
   "outputs": [],
   "source": []
  }
 ],
 "metadata": {
  "kernelspec": {
   "display_name": "Python 3 (ipykernel)",
   "language": "python",
   "name": "python3"
  },
  "language_info": {
   "codemirror_mode": {
    "name": "ipython",
    "version": 3
   },
   "file_extension": ".py",
   "mimetype": "text/x-python",
   "name": "python",
   "nbconvert_exporter": "python",
   "pygments_lexer": "ipython3",
   "version": "3.11.5"
  }
 },
 "nbformat": 4,
 "nbformat_minor": 5
}
