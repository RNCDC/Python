{
 "cells": [
  {
   "cell_type": "code",
   "execution_count": 13,
   "id": "64344b40",
   "metadata": {},
   "outputs": [
    {
     "name": "stdout",
     "output_type": "stream",
     "text": [
      "word1[0] = t\n",
      "word1[1] = h\n",
      "word1[2] = e\n",
      "word1[3] =  \n",
      "word1[4] = q\n",
      "word1[5] = u\n",
      "word1[6] = i\n",
      "word1[7] = c\n",
      "word1[8] = k\n",
      "word1[9] =  \n",
      "word1[10] = b\n",
      "word1[11] = r\n",
      "word1[12] = o\n",
      "word1[13] = w\n",
      "word1[14] = n\n",
      "word1[15] =  \n",
      "word1[16] = f\n",
      "word1[17] = o\n",
      "word1[18] = x\n"
     ]
    }
   ],
   "source": [
    "#For Loop\n",
    "word1 = \"the quick brown fox\"\n",
    "for i in range(len(word1)):\n",
    "    print(f\"word1[{i}] =\",word1[i])"
   ]
  },
  {
   "cell_type": "code",
   "execution_count": 37,
   "id": "3f7db256",
   "metadata": {},
   "outputs": [
    {
     "name": "stdout",
     "output_type": "stream",
     "text": [
      "10\n",
      "9\n",
      "8\n",
      "7\n",
      "6\n",
      "5\n",
      "4\n",
      "3\n",
      "2\n",
      "1\n"
     ]
    }
   ],
   "source": [
    "#For loop decreasing\n",
    "for i in range(10,0,-1):\n",
    "    print(i)"
   ]
  },
  {
   "cell_type": "code",
   "execution_count": 22,
   "id": "8d19e9f9",
   "metadata": {},
   "outputs": [
    {
     "name": "stdout",
     "output_type": "stream",
     "text": [
      "1\n",
      "2\n",
      "3\n",
      "4\n",
      "5\n",
      "6\n",
      "7\n",
      "8\n",
      "9\n",
      "10\n",
      "Total:  55\n"
     ]
    }
   ],
   "source": [
    "#LOOPING WITH SUM AT THE END patayo\n",
    "j=0\n",
    "for i in range (1,11):\n",
    "    print (i)\n",
    "    j+=i\n",
    "print(\"Total: \",j)"
   ]
  },
  {
   "cell_type": "code",
   "execution_count": 40,
   "id": "1e12c041",
   "metadata": {},
   "outputs": [
    {
     "name": "stdout",
     "output_type": "stream",
     "text": [
      "1 + 2 + 3 + 4 + 5 + 6 + 7 + 8 + 9 + 10 = 55\n"
     ]
    }
   ],
   "source": [
    "#LOOPING WITH SUM AT THE END pahiga\n",
    "j=0\n",
    "for i in range (1,11):\n",
    "    if i<10:\n",
    "        print (i,end=\" + \")\n",
    "    else:\n",
    "        print (i,end=\" = \")\n",
    "    j+=i\n",
    "print(j)"
   ]
  },
  {
   "cell_type": "code",
   "execution_count": 101,
   "id": "3fa88c00",
   "metadata": {},
   "outputs": [
    {
     "name": "stdout",
     "output_type": "stream",
     "text": [
      "Please type a character hello\n",
      "H\n"
     ]
    }
   ],
   "source": [
    "#To make it upper case\n",
    "#.upper() in line with the input\n",
    "#letter.capitalize() in line with the condition\n",
    "#letter=letter.upper() after the input\n",
    "letter=input(\"Please type a character \")[0].upper() #.upper() to make it upper case\n",
    "print (letter)"
   ]
  },
  {
   "cell_type": "code",
   "execution_count": null,
   "id": "2e5d9a2b",
   "metadata": {},
   "outputs": [
    {
     "name": "stdout",
     "output_type": "stream",
     "text": [
      "Enter a number: 65\n",
      "4225\n",
      "Continue? o\n"
     ]
    }
   ],
   "source": [
    "#While Loop\n",
    "ans='y'\n",
    "while ans.capitalize()!='N':\n",
    "    x=int(input(\"Enter a number: \"))\n",
    "    print(x*x)\n",
    "    ans=input(\"Continue? \")\n",
    "print(\"End of program\")"
   ]
  },
  {
   "cell_type": "code",
   "execution_count": 44,
   "id": "80977cf4",
   "metadata": {},
   "outputs": [],
   "source": [
    "#Simple Function\n",
    "def simp():\n",
    "    print(\"Does not accept, Does not Return\")"
   ]
  },
  {
   "cell_type": "code",
   "execution_count": 45,
   "id": "11cca661",
   "metadata": {},
   "outputs": [
    {
     "name": "stdout",
     "output_type": "stream",
     "text": [
      "Does not accept, Does not Return\n"
     ]
    }
   ],
   "source": [
    "#Function Call for Simple Function\n",
    "simp()"
   ]
  },
  {
   "cell_type": "code",
   "execution_count": 63,
   "id": "514b78e5",
   "metadata": {},
   "outputs": [],
   "source": [
    "def odd_even1():\n",
    "    z=int(input(\"Enter a number: \"))\n",
    "    if z%2==0:\n",
    "        print(\"Even\")\n",
    "    else:\n",
    "        print(\"Odd\")"
   ]
  },
  {
   "cell_type": "code",
   "execution_count": 65,
   "id": "5d205b50",
   "metadata": {},
   "outputs": [
    {
     "name": "stdout",
     "output_type": "stream",
     "text": [
      "Enter a number: 8\n",
      "Even\n"
     ]
    }
   ],
   "source": [
    "odd_even1()"
   ]
  },
  {
   "cell_type": "code",
   "execution_count": 41,
   "id": "c8687e7a",
   "metadata": {},
   "outputs": [],
   "source": [
    "#Function 2\n",
    "def prod(a,b):\n",
    "    print(\"Product is \",a*b)\n",
    "def sum(a,b):\n",
    "    print(\"Sum is \",a+b)\n",
    "def quo(a,b):\n",
    "    print(\"Quotient is \",a/b)\n",
    "def diff(a,b):\n",
    "    print(\"Difference is \",a-b)"
   ]
  },
  {
   "cell_type": "code",
   "execution_count": 42,
   "id": "42f4623a",
   "metadata": {},
   "outputs": [
    {
     "name": "stdout",
     "output_type": "stream",
     "text": [
      "Product is  30\n",
      "Sum is  64\n",
      "Quotient is  24.75\n",
      "Difference is  22\n"
     ]
    }
   ],
   "source": [
    "#Function Call for F2\n",
    "prod(5,6)\n",
    "sum(14,50)\n",
    "quo(99,4)\n",
    "diff(45,23)"
   ]
  },
  {
   "cell_type": "code",
   "execution_count": 70,
   "id": "53a43d54",
   "metadata": {},
   "outputs": [],
   "source": [
    "def odd_even2(z):\n",
    "    if z%2==0:\n",
    "        print(\"Even\")\n",
    "    else:\n",
    "        print(\"Odd\")"
   ]
  },
  {
   "cell_type": "code",
   "execution_count": 72,
   "id": "141513f9",
   "metadata": {},
   "outputs": [
    {
     "name": "stdout",
     "output_type": "stream",
     "text": [
      "Enter a number: 6\n",
      "Even\n"
     ]
    }
   ],
   "source": [
    "z=int(input(\"Enter a number: \"))\n",
    "odd_even2(z)"
   ]
  },
  {
   "cell_type": "code",
   "execution_count": 46,
   "id": "2664284e",
   "metadata": {},
   "outputs": [],
   "source": [
    "#Function 3\n",
    "def f3():\n",
    "    return \"This is the return value\""
   ]
  },
  {
   "cell_type": "code",
   "execution_count": 47,
   "id": "273013ee",
   "metadata": {},
   "outputs": [
    {
     "name": "stdout",
     "output_type": "stream",
     "text": [
      "This is the return value\n",
      "This is the return value\n"
     ]
    }
   ],
   "source": [
    "#Function Call for f3\n",
    "s=f3()\n",
    "print(s)\n",
    "print(f3()) #direct print"
   ]
  },
  {
   "cell_type": "code",
   "execution_count": 77,
   "id": "970d74ec",
   "metadata": {},
   "outputs": [],
   "source": [
    "def odd_even3():\n",
    "    z=int(input(\"Enter a number: \"))\n",
    "    if z%2==0:\n",
    "        str = \"Even\"\n",
    "    else:\n",
    "        str = \"Odd\"\n",
    "    return(str)"
   ]
  },
  {
   "cell_type": "code",
   "execution_count": 78,
   "id": "2bc636cf",
   "metadata": {},
   "outputs": [
    {
     "name": "stdout",
     "output_type": "stream",
     "text": [
      "Enter a number: 5\n",
      "Odd\n",
      "Enter a number: 6\n",
      "Even\n"
     ]
    }
   ],
   "source": [
    "x=odd_even3()\n",
    "print(x)\n",
    "print(odd_even3())"
   ]
  },
  {
   "cell_type": "code",
   "execution_count": 66,
   "id": "7444fa66",
   "metadata": {},
   "outputs": [],
   "source": [
    "#Function 4\n",
    "def trans_g(score,items):\n",
    "    tg=score*50/items+50\n",
    "    return tg"
   ]
  },
  {
   "cell_type": "code",
   "execution_count": 53,
   "id": "48f37235",
   "metadata": {},
   "outputs": [
    {
     "name": "stdout",
     "output_type": "stream",
     "text": [
      "73.33333333333333\n",
      "73.33\n"
     ]
    }
   ],
   "source": [
    "transmute=trans_g(7,15)\n",
    "print(transmute)\n",
    "print(\"%.2f\"%transmute)"
   ]
  },
  {
   "cell_type": "code",
   "execution_count": 79,
   "id": "7f3bc7a9",
   "metadata": {},
   "outputs": [],
   "source": [
    "def odd_even4(z):\n",
    "    if z%2==0:\n",
    "        str = \"Even\"\n",
    "    else:\n",
    "        str = \"Odd\"\n",
    "    return(str)"
   ]
  },
  {
   "cell_type": "code",
   "execution_count": 84,
   "id": "1b8ba497",
   "metadata": {},
   "outputs": [
    {
     "name": "stdout",
     "output_type": "stream",
     "text": [
      "Enter a number:  5\n",
      "Odd\n"
     ]
    }
   ],
   "source": [
    "x=int(input(\"Enter a number:  \"))\n",
    "y=odd_even4(x)\n",
    "print(y)"
   ]
  },
  {
   "cell_type": "code",
   "execution_count": 85,
   "id": "d988035f",
   "metadata": {},
   "outputs": [
    {
     "name": "stdout",
     "output_type": "stream",
     "text": [
      "Enter a first number: 5\n",
      "Enter a second number: 6\n",
      "0.8333333333333334\n"
     ]
    }
   ],
   "source": [
    "x = int(input(\"Enter a first number: \"))\n",
    "y = int(input(\"Enter a second number: \"))\n",
    "z=x/y\n",
    "print(z)"
   ]
  },
  {
   "cell_type": "code",
   "execution_count": 106,
   "id": "284e3055",
   "metadata": {},
   "outputs": [
    {
     "name": "stdout",
     "output_type": "stream",
     "text": [
      "Enter a first number: 5\n",
      "Enter a second number: 0\n",
      "Have a nice day!!!\n"
     ]
    },
    {
     "ename": "Exception",
     "evalue": "Cannot divide by zero",
     "output_type": "error",
     "traceback": [
      "\u001b[1;31m---------------------------------------------------------------------------\u001b[0m",
      "\u001b[1;31mException\u001b[0m                                 Traceback (most recent call last)",
      "Cell \u001b[1;32mIn[106], line 7\u001b[0m\n\u001b[0;32m      5\u001b[0m y \u001b[38;5;241m=\u001b[39m \u001b[38;5;28mint\u001b[39m(\u001b[38;5;28minput\u001b[39m(\u001b[38;5;124m\"\u001b[39m\u001b[38;5;124mEnter a second number: \u001b[39m\u001b[38;5;124m\"\u001b[39m))\n\u001b[0;32m      6\u001b[0m \u001b[38;5;28;01mif\u001b[39;00m y\u001b[38;5;241m==\u001b[39m \u001b[38;5;241m0\u001b[39m:\n\u001b[1;32m----> 7\u001b[0m     \u001b[38;5;28;01mraise\u001b[39;00m \u001b[38;5;167;01mException\u001b[39;00m(\u001b[38;5;124m\"\u001b[39m\u001b[38;5;124mCannot divide by zero\u001b[39m\u001b[38;5;124m\"\u001b[39m)\n\u001b[0;32m      8\u001b[0m z\u001b[38;5;241m=\u001b[39mx\u001b[38;5;241m/\u001b[39my\n\u001b[0;32m      9\u001b[0m \u001b[38;5;28mprint\u001b[39m(z)\n",
      "\u001b[1;31mException\u001b[0m: Cannot divide by zero"
     ]
    }
   ],
   "source": [
    "#Throwing Exception\n",
    "#What kind of error will result upon running the code\n",
    "try:\n",
    "    x = int(input(\"Enter a first number: \"))\n",
    "    y = int(input(\"Enter a second number: \"))\n",
    "    if y== 0:\n",
    "        raise Exception(\"Cannot divide by zero\")\n",
    "    z=x/y\n",
    "    print(z)\n",
    "except Exception as z: #similar with value error\n",
    "    print(\"Ooops!!! \",z)\n",
    "finally: #optional\n",
    "    print(\"Have a nice day!!!\")"
   ]
  },
  {
   "cell_type": "code",
   "execution_count": 93,
   "id": "596d817e",
   "metadata": {},
   "outputs": [
    {
     "name": "stdout",
     "output_type": "stream",
     "text": [
      "Enter a first number: -100\n",
      "Enter a second number: 099\n",
      "-1.0101010101010102\n",
      "Have a nice day!!!\n"
     ]
    }
   ],
   "source": [
    "#Zero Division Error\n",
    "try:\n",
    "    x = int(input(\"Enter a first number: \"))\n",
    "    y = int(input(\"Enter a second number: \"))\n",
    "    z=x/y\n",
    "    print(z)\n",
    "except ZeroDivisionError: #divide by 0\n",
    "    print(\"Error: Attempt to divide by zero\")\n",
    "except ValueError: #if the input is int and user type char\n",
    "    print(\"Error: Please provide the correct input\")\n",
    "finally: #optional\n",
    "    print(\"Have a nice day!!!\")"
   ]
  },
  {
   "cell_type": "code",
   "execution_count": 96,
   "id": "5be43da9",
   "metadata": {},
   "outputs": [
    {
     "name": "stdout",
     "output_type": "stream",
     "text": [
      "Enter a first number: l\n",
      "Error: Please provide the correct input\n",
      "Have a nice day!!!\n"
     ]
    }
   ],
   "source": [
    "#Value Error\n",
    "try:\n",
    "    x = int(input(\"Enter a first number: \"))\n",
    "    y = int(input(\"Enter a second number: \"))\n",
    "    z=x/y\n",
    "    print(z)\n",
    "except ValueError: #if the input is int and user type char\n",
    "    print(\"Error: Please provide the correct input\")\n",
    "finally: #optional\n",
    "    print(\"Have a nice day!!!\")"
   ]
  },
  {
   "cell_type": "code",
   "execution_count": 99,
   "id": "4d56ff1a",
   "metadata": {},
   "outputs": [
    {
     "name": "stdout",
     "output_type": "stream",
     "text": [
      "Enter a first number: 0\n",
      "Enter a second number: 5\n",
      "0.0\n",
      "Have a nice day!!!\n"
     ]
    }
   ],
   "source": [
    "#ALL ERROR HANDLING EXCEPTION\n",
    "try:\n",
    "    x = int(input(\"Enter a first number: \"))\n",
    "    y = int(input(\"Enter a second number: \"))\n",
    "    if y== 0:\n",
    "        raise Exception(\"Cannot divide by zero\")\n",
    "    z=x/y\n",
    "    print(z)\n",
    "except ZeroDivisionError: #divide by 0\n",
    "    print(\"Error: Attempt to divide by zero\")\n",
    "except ValueError: #if the input is int and user type char\n",
    "    print(\"Error: Please provide the correct input\")\n",
    "except Exception as z: #similar with value error?\n",
    "    print(\"Ooops!!! \",z)\n",
    "finally: #optional\n",
    "    print(\"Have a nice day!!!\")"
   ]
  },
  {
   "cell_type": "code",
   "execution_count": null,
   "id": "0d89c62c",
   "metadata": {},
   "outputs": [],
   "source": []
  }
 ],
 "metadata": {
  "kernelspec": {
   "display_name": "Python 3 (ipykernel)",
   "language": "python",
   "name": "python3"
  },
  "language_info": {
   "codemirror_mode": {
    "name": "ipython",
    "version": 3
   },
   "file_extension": ".py",
   "mimetype": "text/x-python",
   "name": "python",
   "nbconvert_exporter": "python",
   "pygments_lexer": "ipython3",
   "version": "3.11.5"
  }
 },
 "nbformat": 4,
 "nbformat_minor": 5
}
