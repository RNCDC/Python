{
 "cells": [
  {
   "cell_type": "code",
   "execution_count": null,
   "id": "97a8481b",
   "metadata": {},
   "outputs": [],
   "source": [
    "#problem no.1\n",
    "value=int(input(\"Type an integer \"))\n",
    "\n",
    "if  value<=-1:\n",
    "    print(\"Negative Integer\")\n",
    "else:\n",
    "    print(\"Positive Integer\")"
   ]
  },
  {
   "cell_type": "code",
   "execution_count": null,
   "id": "17a6a4e1",
   "metadata": {},
   "outputs": [],
   "source": [
    "#problem no.2\n",
    "value=int(input(\"Type an integer \"))\n",
    "value=value%2\n",
    "if value==1: #x//2-x/2==1 x//2*2==x\n",
    "    print(\"Odd Integer\")\n",
    "else:\n",
    "    print(\"Even Integer\")"
   ]
  },
  {
   "cell_type": "code",
   "execution_count": null,
   "id": "4fb23272",
   "metadata": {},
   "outputs": [],
   "source": [
    "#problem no.3\n",
    "score=int(input(\"What is your score? \"))\n",
    "items=int(input(\"How many items? \"))\n",
    "tg=score*50/items+50\n",
    "#print(\"Transmuted Grade=\",score,\"*50/\",items,\"+50\")\n",
    "#print(tg)\n",
    "print(\"Your Transmuted Grade is \",tg)\n",
    "if tg <= 100 and tg >= 97: # tg>=97:\n",
    "    print(\"The Equivalent is 1.00\")\n",
    "elif tg <= 96 and tg >= 94:\n",
    "    print(\"The Equivalent is 1.25\")\n",
    "elif tg <= 93 and tg >= 91:\n",
    "    print(\"The Equivalent is 1.50\")\n",
    "elif tg <= 90 and tg >= 88:\n",
    "    print(\"The Equivalent is 1.75\")\n",
    "elif tg <= 87 and tg >= 85:\n",
    "    print(\"The Equivalent is 2.0\")\n",
    "elif tg <= 84 and tg >= 82:\n",
    "    print(\"The Equivalent is 2.25\")\n",
    "elif tg <= 81 and tg >= 79:\n",
    "    print(\"The Equivalent is 2.50\")\n",
    "elif tg <= 78 and tg >= 76:\n",
    "    print(\"The Equivalent is 2.75\")\n",
    "elif tg == 75:\n",
    "    print(\"The Equivalent is 3.0\")\n",
    "elif tg == 74:\n",
    "    print(\"The Equivalent is 3.25\")\n",
    "elif tg <= 73 and tg >= 72:\n",
    "    print(\"The Equivalent is 3.5\")\n",
    "elif tg <= 71 and tg >= 70:\n",
    "    print(\"The Equivalent is 3.75\")\n",
    "elif tg <= 69 and tg >= 65:\n",
    "    print(\"The Equivalent is 4.0\")\n",
    "elif tg <= 64 and tg >= 60:\n",
    "    print(\"The Equivalent is 4.25\")\n",
    "elif tg <= 59 and tg >= 58:\n",
    "    print(\"The Equivalent is 4.5\")\n",
    "elif tg <= 57 and tg >= 50:\n",
    "    print(\"The Equivalent is 5.0\")\n",
    "else:\n",
    "    print(\"It is Invalid\")"
   ]
  },
  {
   "cell_type": "code",
   "execution_count": null,
   "id": "45fc19df",
   "metadata": {},
   "outputs": [],
   "source": [
    "\n",
    "x=10/5\n",
    "print(x)"
   ]
  },
  {
   "cell_type": "code",
   "execution_count": 4,
   "id": "5a07bf78",
   "metadata": {},
   "outputs": [
    {
     "name": "stdout",
     "output_type": "stream",
     "text": [
      "Enter the amount: 11163\n",
      "The amount is  11163\n",
      "Breakdown\n",
      "1000 -  11\n",
      "500 -  0\n",
      "200 -  0\n",
      "100 -  1\n",
      "50 -  1\n",
      "20 -  0\n",
      "10 -  1\n",
      "5 -  0\n",
      "1 -  3\n"
     ]
    }
   ],
   "source": [
    "#ACTIVITY 1\n",
    "x=0\n",
    "amount=int(input(\"Enter the amount: \"))\n",
    "print(\"The amount is \",amount)\n",
    "print(\"Breakdown\")  \n",
    "x=amount//1000\n",
    "print (\"1000 - \",x)\n",
    "x=amount%1000//500\n",
    "print (\"500 - \",x)\n",
    "x=amount%1000%500//200\n",
    "print (\"200 - \",x)\n",
    "x=amount%1000%500%200//100\n",
    "print (\"100 - \",x)\n",
    "x=amount%1000%500%200%100//50\n",
    "print (\"50 - \",x)\n",
    "x=amount%1000%500%200%100%50//20\n",
    "print (\"20 - \",x)\n",
    "x=amount%1000%500%200%100%50%20//10\n",
    "print (\"10 - \",x)\n",
    "x=amount%1000%500%200%100%50%20%10//5\n",
    "print (\"5 - \",x)\n",
    "x=amount%1000%500%200%100%50%20%10%5//1\n",
    "print (\"1 - \",x)"
   ]
  },
  {
   "cell_type": "code",
   "execution_count": null,
   "id": "84a3d5e2",
   "metadata": {},
   "outputs": [],
   "source": []
  }
 ],
 "metadata": {
  "kernelspec": {
   "display_name": "Python 3 (ipykernel)",
   "language": "python",
   "name": "python3"
  },
  "language_info": {
   "codemirror_mode": {
    "name": "ipython",
    "version": 3
   },
   "file_extension": ".py",
   "mimetype": "text/x-python",
   "name": "python",
   "nbconvert_exporter": "python",
   "pygments_lexer": "ipython3",
   "version": "3.11.5"
  }
 },
 "nbformat": 4,
 "nbformat_minor": 5
}
