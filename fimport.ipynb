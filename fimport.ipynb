{
 "cells": [
  {
   "cell_type": "code",
   "execution_count": 6,
   "id": "33441ff2",
   "metadata": {},
   "outputs": [],
   "source": [
    "#Function 4\n",
    "def trans_g(score,items):\n",
    "    tg=score*50/items+50\n",
    "    return tg"
   ]
  },
  {
   "cell_type": "code",
   "execution_count": null,
   "id": "52cb186e",
   "metadata": {},
   "outputs": [],
   "source": []
  }
 ],
 "metadata": {
  "kernelspec": {
   "display_name": "Python 3 (ipykernel)",
   "language": "python",
   "name": "python3"
  },
  "language_info": {
   "codemirror_mode": {
    "name": "ipython",
    "version": 3
   },
   "file_extension": ".py",
   "mimetype": "text/x-python",
   "name": "python",
   "nbconvert_exporter": "python",
   "pygments_lexer": "ipython3",
   "version": "3.11.5"
  }
 },
 "nbformat": 4,
 "nbformat_minor": 5
}
