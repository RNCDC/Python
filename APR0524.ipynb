{
 "cells": [
  {
   "cell_type": "code",
   "execution_count": 1,
   "id": "9148dc3c",
   "metadata": {},
   "outputs": [
    {
     "name": "stdout",
     "output_type": "stream",
     "text": [
      "Enter the amount: -1\n",
      "The amount is  -1\n",
      " \n",
      "Error: Amount should be higher than 0\n",
      "Continue? N\n",
      "End of program\n"
     ]
    }
   ],
   "source": [
    "%run NB2.ipynb\n",
    "\n",
    "ans='y'\n",
    "while ans.capitalize()!='N':\n",
    "    try: \n",
    "        amount=int(input(\"Enter the amount: \"))\n",
    "        print(\"The amount is \",amount)\n",
    "        print(\" \")\n",
    "         \n",
    "        if amount < 0:\n",
    "            raise Exception (\"Amount should be higher than 0\")\n",
    "        else:\n",
    "            #Function Call\n",
    "            breakdown(amount)\n",
    "    #Print for Invalids       \n",
    "    except ValueError: \n",
    "        print(\"Error: Please provide the correct input\")\n",
    "    except NameError: \n",
    "        print(\"Error: Please provide the correct input\")\n",
    "    except Exception as amount:\n",
    "        print(\"Error:\",amount)\n",
    "\n",
    "    #To know if the user will continue or not\n",
    "    bool = 1\n",
    "    while bool == 1:\n",
    "        ans=input(\"Continue? \")[0]\n",
    "        if ans.upper() != 'Y' and ans.upper() != 'N':\n",
    "            bool = 1\n",
    "            print (\"Y/N only\")\n",
    "        else:\n",
    "            bool = 0\n",
    "print(\"End of program\")"
   ]
  },
  {
   "cell_type": "code",
   "execution_count": null,
   "id": "df419bf6",
   "metadata": {},
   "outputs": [],
   "source": []
  }
 ],
 "metadata": {
  "kernelspec": {
   "display_name": "Python 3 (ipykernel)",
   "language": "python",
   "name": "python3"
  },
  "language_info": {
   "codemirror_mode": {
    "name": "ipython",
    "version": 3
   },
   "file_extension": ".py",
   "mimetype": "text/x-python",
   "name": "python",
   "nbconvert_exporter": "python",
   "pygments_lexer": "ipython3",
   "version": "3.11.5"
  }
 },
 "nbformat": 4,
 "nbformat_minor": 5
}
