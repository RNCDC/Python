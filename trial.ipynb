{
 "cells": [
  {
   "cell_type": "code",
   "execution_count": 1,
   "id": "0d29bd83",
   "metadata": {},
   "outputs": [
    {
     "name": "stdout",
     "output_type": "stream",
     "text": [
      "hello world\n"
     ]
    }
   ],
   "source": [
    "print(\"hello world\")"
   ]
  },
  {
   "cell_type": "code",
   "execution_count": 3,
   "id": "bf52155c",
   "metadata": {},
   "outputs": [
    {
     "name": "stdout",
     "output_type": "stream",
     "text": [
      "Type your name: rhianna\n",
      "How old are you? 13\n",
      "Who will you be after 5 years? person\n",
      "I am rhianna and I am 13 now. I will be a person after 5 years.\n"
     ]
    }
   ],
   "source": [
    "name=input(\"Type your name: \")\n",
    "age=int(input(\"How old are you? \"))\n",
    "#age+=5\n",
    "what=input(\"Who will you be after 5 years? \")\n",
    "print(\"I am\",name,\"and I am\",age,\"now. I will be a\",what,\"after 5 years.\")"
   ]
  },
  {
   "cell_type": "code",
   "execution_count": 4,
   "id": "86208577",
   "metadata": {},
   "outputs": [
    {
     "name": "stdout",
     "output_type": "stream",
     "text": [
      "Type your name: cyruz\n",
      "How old are you? 17\n",
      "Who will you be after 5 years? me\n",
      "I am cyruz and I am 17 now. I will be a me after 5 years.\n"
     ]
    }
   ],
   "source": [
    "name=input(\"Type your name: \")\n",
    "age=int(input(\"How old are you? \"))\n",
    "#age+=5\n",
    "what=input(\"Who will you be after 5 years? \")\n",
    "print(\"I am\",name,\"and I am\",age,\"now. I will be a\",what,\"after 5 years.\")"
   ]
  },
  {
   "cell_type": "code",
   "execution_count": null,
   "id": "b830f5e3",
   "metadata": {},
   "outputs": [],
   "source": []
  }
 ],
 "metadata": {
  "kernelspec": {
   "display_name": "Python 3 (ipykernel)",
   "language": "python",
   "name": "python3"
  },
  "language_info": {
   "codemirror_mode": {
    "name": "ipython",
    "version": 3
   },
   "file_extension": ".py",
   "mimetype": "text/x-python",
   "name": "python",
   "nbconvert_exporter": "python",
   "pygments_lexer": "ipython3",
   "version": "3.11.5"
  }
 },
 "nbformat": 4,
 "nbformat_minor": 5
}
