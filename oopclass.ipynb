{
 "cells": [
  {
   "cell_type": "code",
   "execution_count": 1,
   "id": "7fd119a8",
   "metadata": {},
   "outputs": [],
   "source": [
    "class Odd_even: #1\n",
    "    def setNum(self,x):\n",
    "        self.x = x\n",
    "    def getResult(self):\n",
    "        if self.x %2 == 0:\n",
    "            return 'The number is EVEN'\n",
    "        else:\n",
    "            return 'The number is ODD'"
   ]
  },
  {
   "cell_type": "code",
   "execution_count": 2,
   "id": "9097e670",
   "metadata": {},
   "outputs": [],
   "source": [
    "class Transg: #2\n",
    "    \"\"\"def __init__(self):\n",
    "        self.score=0\n",
    "        self.items=50\"\"\"\n",
    "    def setScore(self,score):\n",
    "        self.score=score\n",
    "    def getScore(self):\n",
    "        return self.score\n",
    "    def setItems(self,items):\n",
    "        self.items=items\n",
    "    def getItems(self):\n",
    "        return self.items\n",
    "    def getTg(self):\n",
    "        tg=self.score * 50 / self.items + 50\n",
    "        return tg"
   ]
  },
  {
   "cell_type": "code",
   "execution_count": 2,
   "id": "0ddd81f3",
   "metadata": {},
   "outputs": [],
   "source": [
    "class Table: #3\n",
    "    def __init__(self,score,items):\n",
    "        self.score=score #0\n",
    "        self.items=items #50\n",
    "    def getScore(self):\n",
    "        return self.score\n",
    "    def getItems(self):\n",
    "        return self.items\n",
    "    def getTg(self):\n",
    "        tg=self.score * 50 / self.items + 50\n",
    "        return tg"
   ]
  },
  {
   "cell_type": "code",
   "execution_count": null,
   "id": "f28fdd26",
   "metadata": {},
   "outputs": [],
   "source": []
  }
 ],
 "metadata": {
  "kernelspec": {
   "display_name": "Python 3 (ipykernel)",
   "language": "python",
   "name": "python3"
  },
  "language_info": {
   "codemirror_mode": {
    "name": "ipython",
    "version": 3
   },
   "file_extension": ".py",
   "mimetype": "text/x-python",
   "name": "python",
   "nbconvert_exporter": "python",
   "pygments_lexer": "ipython3",
   "version": "3.11.5"
  }
 },
 "nbformat": 4,
 "nbformat_minor": 5
}
