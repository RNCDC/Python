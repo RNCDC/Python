{
 "cells": [
  {
   "cell_type": "code",
   "execution_count": 1,
   "id": "fa2afd69",
   "metadata": {},
   "outputs": [],
   "source": [
    "#TG Function\n",
    "def transg(score,items):\n",
    "    tg=score*50/items+50\n",
    "    return tg"
   ]
  },
  {
   "cell_type": "code",
   "execution_count": 2,
   "id": "a486a772",
   "metadata": {},
   "outputs": [],
   "source": [
    "#Equivalent Function\n",
    "def equi(score,items):\n",
    "    tg=score*50/items+50\n",
    "    if tg <= 100 and tg >= 97:\n",
    "        return float('1.00')\n",
    "    elif tg <= 96 and tg >= 94:\n",
    "        return float('1.25')\n",
    "    elif tg <= 93 and tg >= 91:\n",
    "        return float('1.50')\n",
    "    elif tg <= 90 and tg >= 88:\n",
    "        return float('1.75')\n",
    "    elif tg <= 87 and tg >= 85:\n",
    "        return float('2.0')\n",
    "    elif tg <= 84 and tg >= 82:\n",
    "        return float('2.25')\n",
    "    elif tg <= 81 and tg >= 79:\n",
    "        return float('2.50')\n",
    "    elif tg <= 78 and tg >= 76:\n",
    "        return float('2.75')\n",
    "    elif tg == 75:\n",
    "        return float('3.0')\n",
    "    elif tg == 74:\n",
    "        return float('3.25')\n",
    "    elif tg <= 73 and tg >= 72:\n",
    "        return float('3.5')\n",
    "    elif tg <= 71 and tg >= 70:\n",
    "        return float('3.75')\n",
    "    elif tg <= 69 and tg >= 65:\n",
    "        return float('4.0')\n",
    "    elif tg <= 64 and tg >= 60:\n",
    "        return float('4.25')\n",
    "    elif tg <= 59 and tg >= 58:\n",
    "        return float('4.5')\n",
    "    elif tg <= 57 and tg >= 50:\n",
    "        return float('5.0')\n",
    "    else:\n",
    "        return \"It is Invalid\""
   ]
  },
  {
   "cell_type": "code",
   "execution_count": 15,
   "id": "c0f793a1",
   "metadata": {},
   "outputs": [],
   "source": [
    "#Breakdown Function\n",
    "def breakdown(amount):\n",
    "    #Outputs and Computations\n",
    "    print(\"Breakdown\")\n",
    "    x=amount//1000\n",
    "    print (\"1000 - \",x)\n",
    "    x=amount%1000//500\n",
    "    print (\"500 - \",x)\n",
    "    x=amount%1000%500//200\n",
    "    print (\"200 - \",x)\n",
    "    x=amount%1000%500%200//100\n",
    "    print (\"100 - \",x)\n",
    "    x=amount%1000%500%200%100//50\n",
    "    print (\"50 - \",x)\n",
    "    x=amount%1000%500%200%100%50//20\n",
    "    print (\"20 - \",x)\n",
    "    x=amount%1000%500%200%100%50%20//10\n",
    "    print (\"10 - \",x)\n",
    "    x=amount%1000%500%200%100%50%20%10//5\n",
    "    print (\"5 - \",x)\n",
    "    x=amount%1000%500%200%100%50%20%10%5//1\n",
    "    print (\"1 - \",x)"
   ]
  },
  {
   "cell_type": "code",
   "execution_count": null,
   "id": "175869fb",
   "metadata": {},
   "outputs": [],
   "source": []
  }
 ],
 "metadata": {
  "kernelspec": {
   "display_name": "Python 3 (ipykernel)",
   "language": "python",
   "name": "python3"
  },
  "language_info": {
   "codemirror_mode": {
    "name": "ipython",
    "version": 3
   },
   "file_extension": ".py",
   "mimetype": "text/x-python",
   "name": "python",
   "nbconvert_exporter": "python",
   "pygments_lexer": "ipython3",
   "version": "3.11.5"
  }
 },
 "nbformat": 4,
 "nbformat_minor": 5
}
